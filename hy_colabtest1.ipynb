{
  "nbformat": 4,
  "nbformat_minor": 0,
  "metadata": {
    "colab": {
      "name": "hy_colabtest1.ipynb",
      "provenance": [],
      "authorship_tag": "ABX9TyOSAcYmg+1/zI4to3Vawt7f",
      "include_colab_link": true
    },
    "kernelspec": {
      "name": "python3",
      "display_name": "Python 3"
    }
  },
  "cells": [
    {
      "cell_type": "markdown",
      "metadata": {
        "id": "view-in-github",
        "colab_type": "text"
      },
      "source": [
        "<a href=\"https://colab.research.google.com/github/yunhayon/PublicTest/blob/main/hy_colabtest1.ipynb\" target=\"_parent\"><img src=\"https://colab.research.google.com/assets/colab-badge.svg\" alt=\"Open In Colab\"/></a>"
      ]
    },
    {
      "cell_type": "code",
      "metadata": {
        "id": "uwF9oebyqvDN"
      },
      "source": [
        "\r\n",
        "import torch\r\n",
        "import numpy as np\r\n"
      ],
      "execution_count": null,
      "outputs": []
    },
    {
      "cell_type": "code",
      "metadata": {
        "id": "38F59vFEq9um"
      },
      "source": [
        "\r\n",
        "tensor_from_list = torch.tensor([[1., 0.], [0., 1.]])"
      ],
      "execution_count": null,
      "outputs": []
    },
    {
      "cell_type": "code",
      "metadata": {
        "id": "zMb_-mQGrAAO",
        "colab": {
          "base_uri": "https://localhost:8080/"
        },
        "outputId": "12b24343-2c14-4237-ec0b-43afdc88afd1"
      },
      "source": [
        "print(tensor_from_list)"
      ],
      "execution_count": null,
      "outputs": [
        {
          "output_type": "stream",
          "text": [
            "tensor([[1., 0.],\n",
            "        [0., 1.]])\n"
          ],
          "name": "stdout"
        }
      ]
    }
  ]
}